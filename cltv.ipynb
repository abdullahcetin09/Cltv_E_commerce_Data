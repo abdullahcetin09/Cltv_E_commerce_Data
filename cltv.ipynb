{
 "cells": [
  {
   "cell_type": "code",
   "execution_count": null,
   "metadata": {},
   "outputs": [],
   "source": [
    "import datetime as dt\n",
    "import pandas as pd\n",
    "import matplotlib.pyplot as plt\n",
    "import squarify\n",
    "from lifetimes import BetaGeoFitter\n",
    "from lifetimes import GammaGammaFitter\n",
    "from lifetimes.plotting import plot_period_transactions\n",
    "pd.set_option('display.max_columns', None)\n",
    "pd.set_option('display.max_rows', None)\n",
    "pd.set_option(\"display.width\", 1000)\n",
    "pd.set_option('display.float_format', lambda x: '%.8f' % x)\n",
    "import os\n"
   ]
  },
  {
   "cell_type": "code",
   "execution_count": null,
   "metadata": {},
   "outputs": [],
   "source": [
    "df_ = pd.read_csv(r\"/Users/abdullahcetin/Documents/python /git_folder/Data_set/data.csv\", encoding= 'unicode_escape')\n",
    "df = df_.copy()\n",
    "\n",
    "def check_df(dataframe):\n",
    "    print(\"##################### First 10 Observations #####################\")\n",
    "    print(dataframe.head(10))\n",
    "    print(\"##################### Column names #####################\")\n",
    "    print(df.info())\n",
    "    print(\"##################### Shape #####################\")\n",
    "    print(dataframe.shape)\n",
    "    print(\"##################### Quantiles #####################\")\n",
    "    print(dataframe.describe([0, 0.05, 0.50, 0.95, 0.99, 1]).T)\n",
    "    print(\"##################### NA #####################\")\n",
    "    print(dataframe.isnull().sum())\n",
    "    print(\"##################### Types #####################\")\n",
    "    print(dataframe.dtypes)\n",
    "check_df(df)"
   ]
  },
  {
   "cell_type": "code",
   "execution_count": null,
   "metadata": {},
   "outputs": [],
   "source": [
    "# Data cleaning\n",
    "df.dropna(inplace=True)\n",
    "df = df[~df[\"InvoiceNo\"].str.contains(\"C\", na=False)] \n",
    "df = df[df[\"Quantity\"] > 0]\n",
    "df = df[df[\"UnitPrice\"] > 0]\n",
    "df.describe().T"
   ]
  },
  {
   "cell_type": "code",
   "execution_count": null,
   "metadata": {},
   "outputs": [],
   "source": [
    "print(df.shape )\n",
    "df[\"InvoiceNo\"].nunique()"
   ]
  },
  {
   "cell_type": "code",
   "execution_count": null,
   "metadata": {},
   "outputs": [],
   "source": [
    "df.head()"
   ]
  },
  {
   "cell_type": "code",
   "execution_count": null,
   "metadata": {},
   "outputs": [],
   "source": [
    "# correction of outliers.\n",
    "\n",
    "def outlier_thresholds(dataframe, variable):\n",
    "    quartile1 = dataframe[variable].quantile(0.01)\n",
    "    quartile3 = dataframe[variable].quantile(0.99)\n",
    "    interquantile_range = quartile3 - quartile1\n",
    "    up_limit = quartile3 + 1.5 * interquantile_range\n",
    "    low_limit = quartile1 - 1.5 * interquantile_range\n",
    "    return low_limit, up_limit\n",
    "\n",
    "\n",
    "def replace_with_thresholds(dataframe, variable):\n",
    "    low_limit, up_limit = outlier_thresholds(dataframe, variable)\n",
    "    # dataframe.loc[(dataframe[variable] < low_limit), variable] = low_limit\n",
    "    dataframe.loc[(dataframe[variable] > up_limit), variable] = up_limit"
   ]
  },
  {
   "cell_type": "code",
   "execution_count": null,
   "metadata": {},
   "outputs": [],
   "source": [
    "replace_with_thresholds(df, \"Quantity\")\n",
    "replace_with_thresholds(df, \"UnitPrice\")\n",
    "df.describe().T"
   ]
  },
  {
   "cell_type": "code",
   "execution_count": null,
   "metadata": {},
   "outputs": [],
   "source": [
    "#calculation of total price.\n",
    "df[\"TotalPrice\"] = df[\"Quantity\"] * df[\"UnitPrice\"]\n",
    "df.head()"
   ]
  },
  {
   "cell_type": "code",
   "execution_count": null,
   "metadata": {},
   "outputs": [],
   "source": [
    "\n",
    "df.groupby(\"InvoiceNo\").agg({\"TotalPrice\":\"sum\"}).head()"
   ]
  },
  {
   "cell_type": "code",
   "execution_count": null,
   "metadata": {},
   "outputs": [],
   "source": [
    "df[\"InvoiceDate\"] = df[\"InvoiceDate\"].apply(pd.to_datetime)"
   ]
  },
  {
   "cell_type": "code",
   "execution_count": null,
   "metadata": {},
   "outputs": [],
   "source": [
    "df.InvoiceDate.max() #'9/9/2011 9:52'\n"
   ]
  },
  {
   "cell_type": "code",
   "execution_count": null,
   "metadata": {},
   "outputs": [],
   "source": [
    "today_date = dt.datetime(2011, 12, 11)"
   ]
  },
  {
   "cell_type": "code",
   "execution_count": null,
   "metadata": {},
   "outputs": [],
   "source": [
    "# calculation of rfm metrics\n",
    "\n",
    "cltv_df = df.groupby('CustomerID').agg(\n",
    "    {'InvoiceDate': [lambda InvoiceDate: (InvoiceDate.max() - InvoiceDate.min()).days,\n",
    "                     lambda InvoiceDate: (today_date - InvoiceDate.min()).days],\n",
    "     'InvoiceNo': lambda InvoiceNo: InvoiceNo.nunique(),\n",
    "     'TotalPrice': lambda TotalPrice: TotalPrice.sum()})\n",
    "cltv_df.columns = cltv_df.columns.droplevel(0)\n",
    "cltv_df.columns = ['recency', 'T', 'frequency', 'monetary']\n",
    "cltv_df = cltv_df[cltv_df[\"monetary\"] > 0]\n",
    "cltv_df.head()"
   ]
  },
  {
   "cell_type": "code",
   "execution_count": null,
   "metadata": {},
   "outputs": [],
   "source": [
    "# Calculation fo RFM score.\n",
    "cltv_df['Recency_Score'] = pd.qcut(cltv_df['recency'].rank(method=\"first\") , 5,labels=[5, 4, 3, 2, 1])\n",
    "cltv_df['Frequency_Score'] = pd.qcut(cltv_df['recency'].rank(method=\"first\") , 5,labels=[1, 2, 3, 4, 5])\n",
    "cltv_df['Monetary_Score'] = pd.qcut(cltv_df['recency'].rank(method=\"first\") , 5,labels=[1, 2, 3, 4, 5])\n",
    "cltv_df['RFM_Score'] = (cltv_df['Recency_Score'].astype(str) +cltv_df['Frequency_Score'].astype(str))\n",
    "cltv_df.head()"
   ]
  },
  {
   "cell_type": "code",
   "execution_count": null,
   "metadata": {},
   "outputs": [],
   "source": [
    "\n",
    "\n",
    "seg_map={\n",
    "    r'[1-2][1-2]':'hibernating',\n",
    "    r'[1-2][3-4]': 'at_Risk',\n",
    "    r'[1-2]5': 'cant_loose',\n",
    "    r'3[1-2]': 'about_to_sleep',\n",
    "    r'33' : ' need_attention',\n",
    "    r'[3-4][4-5]': 'loyal_customers',\n",
    "    r'41': 'promising',\n",
    "    r'51': 'new_customers',\n",
    "    r'[4-5][2-3]': 'potential_loyalsts',\n",
    "    r'5[4-5]':'champions'\n",
    "}\n",
    "cltv_df['Segment_RFM'] = cltv_df['RFM_Score'].replace(seg_map, regex=True)\n",
    "cltv_df.head()"
   ]
  },
  {
   "cell_type": "code",
   "execution_count": null,
   "metadata": {},
   "outputs": [],
   "source": [
    "cltv_df[[\"Segment_RFM\",\"recency\", \"frequency\", \"monetary\"]].groupby(\"Segment_RFM\").agg(['mean', 'count'])"
   ]
  },
  {
   "cell_type": "code",
   "execution_count": null,
   "metadata": {},
   "outputs": [],
   "source": [
    "# calculation of cltv\n",
    "\n",
    "cltv_df[\"monetary\"] = cltv_df[\"monetary\"] / cltv_df[\"frequency\"] # To calculate average monetary\n",
    "\n",
    "cltv_df = cltv_df[(cltv_df['frequency'] > 1)] # To get rid of values that are equal to 0\n",
    "# cltv_df = cltv_df[(cltv_df['recency'] > 1)]\n",
    "cltv_df[\"recency\"] = cltv_df[\"recency\"] / 7  # converting days to weeks\n",
    "\n",
    "cltv_df[\"T\"] = cltv_df[\"T\"] / 7 # converting days to weeks\n",
    "\n",
    "cltv_df.head()\n",
    "check_df(cltv_df)"
   ]
  },
  {
   "cell_type": "code",
   "execution_count": null,
   "metadata": {},
   "outputs": [],
   "source": [
    "bgf = BetaGeoFitter(penalizer_coef=0.001)\n",
    "bgf.fit(cltv_df['frequency'],\n",
    "        cltv_df['recency'],\n",
    "        cltv_df['T'])\n",
    "bgf.summary"
   ]
  },
  {
   "cell_type": "code",
   "execution_count": null,
   "metadata": {},
   "outputs": [],
   "source": [
    "plot_period_transactions(bgf)\n",
    "plt.show(block=True)"
   ]
  },
  {
   "cell_type": "code",
   "execution_count": null,
   "metadata": {},
   "outputs": [],
   "source": [
    "cltv_df[\"expected_purc_a_month\"] = bgf.conditional_expected_number_of_purchases_up_to_time(4, cltv_df['frequency'], cltv_df['recency'], cltv_df['T'])\n",
    "\n",
    "cltv_df[\"expected_purc_3_month\"] = bgf.predict(12, cltv_df['frequency'], cltv_df['recency'], cltv_df['T'])\n",
    "\n",
    "cltv_df.head()"
   ]
  },
  {
   "cell_type": "code",
   "execution_count": null,
   "metadata": {},
   "outputs": [],
   "source": [
    "ggf = GammaGammaFitter(penalizer_coef=0.01)\n",
    "\n",
    "ggf.fit(cltv_df['frequency'], cltv_df['monetary'])"
   ]
  },
  {
   "cell_type": "code",
   "execution_count": null,
   "metadata": {},
   "outputs": [],
   "source": [
    "cltv_df[\"expected_average_profit\"] = ggf.conditional_expected_average_profit(cltv_df['frequency'],\n",
    "                                                                             cltv_df['monetary']) #per puchase\n",
    "cltv_df.head()"
   ]
  },
  {
   "cell_type": "code",
   "execution_count": null,
   "metadata": {},
   "outputs": [],
   "source": [
    "# calculation of cltv \n",
    "cltv_df[\"cltv\"] = ggf.customer_lifetime_value(bgf,\n",
    "                                   cltv_df['frequency'],\n",
    "                                   cltv_df['recency'],\n",
    "                                   cltv_df['T'],\n",
    "                                   cltv_df['monetary'],\n",
    "                                   time=3,\n",
    "                                   freq=\"W\",  # Frequency period (\"Weeks\")\n",
    "                                   discount_rate=0.01)\n",
    "cltv_df.head()"
   ]
  },
  {
   "cell_type": "code",
   "execution_count": null,
   "metadata": {},
   "outputs": [],
   "source": [
    "cltv_df[\"Segment_Cltv\"] = pd.qcut(cltv_df[\"cltv\"], 4, labels=[\"D\", \"C\", \"B\", \"A\"])\n",
    "cltv_df.sort_values(\"cltv\", ascending = False).head(20)"
   ]
  },
  {
   "cell_type": "code",
   "execution_count": null,
   "metadata": {},
   "outputs": [],
   "source": [
    "cltv_df.describe().T"
   ]
  },
  {
   "cell_type": "code",
   "execution_count": null,
   "metadata": {},
   "outputs": [],
   "source": [
    "\n",
    "cltv_df.groupby(\"Segment_Cltv\")[[\"expected_purc_a_month\", \"expected_purc_3_month\",\"expected_average_profit\",\"cltv\" ]].agg({\"count\", \"mean\", \"sum\"}).sort_values(\"Segment_Cltv\",ascending = False)"
   ]
  },
  {
   "cell_type": "code",
   "execution_count": null,
   "metadata": {},
   "outputs": [],
   "source": [
    "# cltv_df[(cltv_df[\"Segment_Cltv\"] == \"A\") & (cltv_df[\"Segment_RFM\"] == \"cant_loose\")].head()\n",
    "\n",
    "cltv_df[cltv_df[\"Segment_Cltv\"] == \"A\"][[\"RFM_Score\",\"Segment_RFM\",\"cltv\"]].sort_values(\"cltv\", ascending=False).head()"
   ]
  },
  {
   "cell_type": "code",
   "execution_count": null,
   "metadata": {},
   "outputs": [],
   "source": []
  }
 ],
 "metadata": {
  "kernelspec": {
   "display_name": "base",
   "language": "python",
   "name": "python3"
  },
  "language_info": {
   "codemirror_mode": {
    "name": "ipython",
    "version": 3
   },
   "file_extension": ".py",
   "mimetype": "text/x-python",
   "name": "python",
   "nbconvert_exporter": "python",
   "pygments_lexer": "ipython3",
   "version": "3.11.5"
  }
 },
 "nbformat": 4,
 "nbformat_minor": 2
}
